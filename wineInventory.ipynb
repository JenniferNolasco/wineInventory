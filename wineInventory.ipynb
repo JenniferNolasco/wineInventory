{
 "cells": [
  {
   "cell_type": "markdown",
   "metadata": {},
   "source": [
    "# Wine Inventory"
   ]
  },
  {
   "cell_type": "markdown",
   "metadata": {},
   "source": [
    "There are a collection of wines that have been cataloged by wines we have purchased and consumed over the past few years: \"onShelf.csv\". The goal of this analysis is to clean up the inventory, observe the factors that contribute most to how much a wine is enjoyed, and use them to predict the rating for wines we have not tasted yet."
   ]
  },
  {
   "cell_type": "code",
   "execution_count": 61,
   "metadata": {},
   "outputs": [],
   "source": [
    "import pandas as pd\n",
    "import numpy as np\n",
    "import matplotlib.pyplot as plt"
   ]
  },
  {
   "cell_type": "code",
   "execution_count": 87,
   "metadata": {},
   "outputs": [],
   "source": [
    "# creating a single dataset of all the wines\n",
    "\n",
    "headers = ['Location Code', 'Location', 'Vintage', 'Region', 'Wine Name', 'Grape/Blend', 'Quantity', \n",
    "           'Rating', 'Unit Purchase Price', 'Type', 'Purchase Date']\n",
    "\n",
    "df = pd.read_csv('onShelf.csv', names=headers, header=0, index_col=False)\n",
    "\n",
    "df = df.reset_index(drop=True)"
   ]
  },
  {
   "cell_type": "code",
   "execution_count": 88,
   "metadata": {
    "scrolled": true
   },
   "outputs": [
    {
     "data": {
      "text/html": [
       "<div>\n",
       "<style scoped>\n",
       "    .dataframe tbody tr th:only-of-type {\n",
       "        vertical-align: middle;\n",
       "    }\n",
       "\n",
       "    .dataframe tbody tr th {\n",
       "        vertical-align: top;\n",
       "    }\n",
       "\n",
       "    .dataframe thead th {\n",
       "        text-align: right;\n",
       "    }\n",
       "</style>\n",
       "<table border=\"1\" class=\"dataframe\">\n",
       "  <thead>\n",
       "    <tr style=\"text-align: right;\">\n",
       "      <th></th>\n",
       "      <th>Location Code</th>\n",
       "      <th>Location</th>\n",
       "      <th>Vintage</th>\n",
       "      <th>Region</th>\n",
       "      <th>Wine Name</th>\n",
       "      <th>Grape/Blend</th>\n",
       "      <th>Quantity</th>\n",
       "      <th>Rating</th>\n",
       "      <th>Unit Purchase Price</th>\n",
       "      <th>Type</th>\n",
       "      <th>Purchase Date</th>\n",
       "    </tr>\n",
       "  </thead>\n",
       "  <tbody>\n",
       "    <tr>\n",
       "      <th>0</th>\n",
       "      <td>TL1</td>\n",
       "      <td>Bar</td>\n",
       "      <td>2017.0</td>\n",
       "      <td>France</td>\n",
       "      <td>Domaine Lafage Bastide Miraflors Côtes du Rous...</td>\n",
       "      <td>Syrah/Granache</td>\n",
       "      <td>1.0</td>\n",
       "      <td>NaN</td>\n",
       "      <td>$14.25</td>\n",
       "      <td>Red</td>\n",
       "      <td>11/7/2020</td>\n",
       "    </tr>\n",
       "    <tr>\n",
       "      <th>1</th>\n",
       "      <td>TL2</td>\n",
       "      <td>Bar</td>\n",
       "      <td>2017.0</td>\n",
       "      <td>Italy</td>\n",
       "      <td>Scaia Paradiso</td>\n",
       "      <td>Corvina/Rondinella/Cabernet</td>\n",
       "      <td>1.0</td>\n",
       "      <td>4.0</td>\n",
       "      <td>$19.00</td>\n",
       "      <td>Red</td>\n",
       "      <td>5/30/2020</td>\n",
       "    </tr>\n",
       "    <tr>\n",
       "      <th>2</th>\n",
       "      <td>TL3</td>\n",
       "      <td>Bar</td>\n",
       "      <td>2016.0</td>\n",
       "      <td>Spain</td>\n",
       "      <td>Nubori Crianza Rioja</td>\n",
       "      <td>Tempranillo</td>\n",
       "      <td>1.0</td>\n",
       "      <td>4.0</td>\n",
       "      <td>$16.00</td>\n",
       "      <td>Red</td>\n",
       "      <td>11/23/2019</td>\n",
       "    </tr>\n",
       "    <tr>\n",
       "      <th>3</th>\n",
       "      <td>TL3</td>\n",
       "      <td>Bar</td>\n",
       "      <td>2016.0</td>\n",
       "      <td>Spain</td>\n",
       "      <td>Cyan Toro</td>\n",
       "      <td>Tempranillo</td>\n",
       "      <td>1.0</td>\n",
       "      <td>NaN</td>\n",
       "      <td>$16.50</td>\n",
       "      <td>Red</td>\n",
       "      <td>11/7/2020</td>\n",
       "    </tr>\n",
       "    <tr>\n",
       "      <th>4</th>\n",
       "      <td>TL4</td>\n",
       "      <td>Bar</td>\n",
       "      <td>2016.0</td>\n",
       "      <td>California</td>\n",
       "      <td>Sterling</td>\n",
       "      <td>Merlot</td>\n",
       "      <td>1.0</td>\n",
       "      <td>4.0</td>\n",
       "      <td>$-</td>\n",
       "      <td>Red</td>\n",
       "      <td>NaN</td>\n",
       "    </tr>\n",
       "  </tbody>\n",
       "</table>\n",
       "</div>"
      ],
      "text/plain": [
       "  Location Code Location  Vintage      Region  \\\n",
       "0           TL1      Bar   2017.0      France   \n",
       "1           TL2      Bar   2017.0       Italy   \n",
       "2           TL3      Bar   2016.0       Spain   \n",
       "3           TL3      Bar   2016.0       Spain   \n",
       "4           TL4      Bar   2016.0  California   \n",
       "\n",
       "                                           Wine Name  \\\n",
       "0  Domaine Lafage Bastide Miraflors Côtes du Rous...   \n",
       "1                                     Scaia Paradiso   \n",
       "2                               Nubori Crianza Rioja   \n",
       "3                                          Cyan Toro   \n",
       "4                                           Sterling   \n",
       "\n",
       "                   Grape/Blend  Quantity  Rating Unit Purchase Price Type  \\\n",
       "0               Syrah/Granache       1.0     NaN             $14.25   Red   \n",
       "1  Corvina/Rondinella/Cabernet       1.0     4.0             $19.00   Red   \n",
       "2                  Tempranillo       1.0     4.0             $16.00   Red   \n",
       "3                  Tempranillo       1.0     NaN             $16.50   Red   \n",
       "4                       Merlot       1.0     4.0               $-     Red   \n",
       "\n",
       "  Purchase Date  \n",
       "0     11/7/2020  \n",
       "1     5/30/2020  \n",
       "2    11/23/2019  \n",
       "3     11/7/2020  \n",
       "4           NaN  "
      ]
     },
     "execution_count": 88,
     "metadata": {},
     "output_type": "execute_result"
    }
   ],
   "source": [
    "df.head()"
   ]
  },
  {
   "cell_type": "markdown",
   "metadata": {},
   "source": [
    "### Handling Missing Values"
   ]
  },
  {
   "cell_type": "code",
   "execution_count": 89,
   "metadata": {},
   "outputs": [],
   "source": [
    "df.drop(df[df['Wine Name'].isna() == True].index, inplace=True)"
   ]
  },
  {
   "cell_type": "code",
   "execution_count": 90,
   "metadata": {},
   "outputs": [
    {
     "data": {
      "text/plain": [
       "Location Code           0\n",
       "Location                0\n",
       "Vintage                 3\n",
       "Region                  0\n",
       "Wine Name               0\n",
       "Grape/Blend             0\n",
       "Quantity                0\n",
       "Rating                 37\n",
       "Unit Purchase Price     0\n",
       "Type                    0\n",
       "Purchase Date          12\n",
       "dtype: int64"
      ]
     },
     "execution_count": 90,
     "metadata": {},
     "output_type": "execute_result"
    }
   ],
   "source": [
    "df.isna().sum()"
   ]
  },
  {
   "cell_type": "code",
   "execution_count": 91,
   "metadata": {},
   "outputs": [],
   "source": [
    "df['Vintage'] = df['Vintage'].fillna(0)"
   ]
  },
  {
   "cell_type": "code",
   "execution_count": 92,
   "metadata": {},
   "outputs": [],
   "source": [
    "df = df.astype({'Quantity':'int', 'Vintage':'int'}) "
   ]
  },
  {
   "cell_type": "code",
   "execution_count": 93,
   "metadata": {},
   "outputs": [],
   "source": [
    "df.loc[68, 'Quantity'] = 0 # Mara - Drank last bottle\n",
    "df.loc[23, 'Quantity'] = 1 # Chateau Labastide Orliac drank one"
   ]
  },
  {
   "cell_type": "markdown",
   "metadata": {},
   "source": [
    "### Splitting and Encoding"
   ]
  },
  {
   "cell_type": "code",
   "execution_count": 94,
   "metadata": {},
   "outputs": [
    {
     "name": "stdout",
     "output_type": "stream",
     "text": [
      "<class 'pandas.core.frame.DataFrame'>\n",
      "Int64Index: 56 entries, 1 to 92\n",
      "Data columns (total 5 columns):\n",
      " #   Column       Non-Null Count  Dtype  \n",
      "---  ------       --------------  -----  \n",
      " 0   Vintage      56 non-null     int32  \n",
      " 1   Region       56 non-null     object \n",
      " 2   Grape/Blend  56 non-null     object \n",
      " 3   Type         56 non-null     object \n",
      " 4   Rating       56 non-null     float64\n",
      "dtypes: float64(1), int32(1), object(3)\n",
      "memory usage: 2.4+ KB\n"
     ]
    }
   ],
   "source": [
    "# creating the training set\n",
    "train = df[['Vintage', 'Region', 'Grape/Blend', 'Type', 'Rating']]\n",
    "train = train.dropna(axis=0)\n",
    "train.info()"
   ]
  },
  {
   "cell_type": "code",
   "execution_count": 95,
   "metadata": {},
   "outputs": [],
   "source": [
    "X = train[['Vintage', 'Region', 'Grape/Blend', 'Type']]\n",
    "y = train[['Rating']]"
   ]
  },
  {
   "cell_type": "code",
   "execution_count": 143,
   "metadata": {},
   "outputs": [
    {
     "name": "stderr",
     "output_type": "stream",
     "text": [
      "C:\\Users\\Grace\\anaconda3\\lib\\site-packages\\category_encoders\\utils.py:21: FutureWarning: is_categorical is deprecated and will be removed in a future version.  Use is_categorical_dtype instead\n",
      "  elif pd.api.types.is_categorical(cols):\n"
     ]
    },
    {
     "data": {
      "text/plain": [
       "['Vintage',\n",
       " 'Region_Italy',\n",
       " 'Region_Spain',\n",
       " 'Region_California',\n",
       " 'Region_New Zealand',\n",
       " 'Region_Australia',\n",
       " 'Region_Argentina',\n",
       " 'Region_Germany',\n",
       " 'Region_Portugal',\n",
       " 'Region_France',\n",
       " 'Region_Chile',\n",
       " 'Region_Slovania',\n",
       " 'Region_Washington',\n",
       " 'Region_South Africa',\n",
       " 'Grape/Blend_Corvina/Rondinella/Cabernet',\n",
       " 'Grape/Blend_Tempranillo',\n",
       " 'Grape/Blend_Merlot',\n",
       " 'Grape/Blend_Pinot Noir',\n",
       " 'Grape/Blend_Tempranillo/Garnacha/Graciano',\n",
       " 'Grape/Blend_Cabernet',\n",
       " 'Grape/Blend_Barbera',\n",
       " 'Grape/Blend_Malbec',\n",
       " 'Grape/Blend_Dornfelder Sweet Red',\n",
       " 'Grape/Blend_Roriz/Barroca/Aragonez/Pinot Noir/Touriga',\n",
       " 'Grape/Blend_Merlot/Cabernet Franc/Tannat',\n",
       " 'Grape/Blend_Carmanere Reserva',\n",
       " 'Grape/Blend_Sweet Red',\n",
       " 'Grape/Blend_Cava Sparking',\n",
       " 'Grape/Blend_Prosecco Sparkling',\n",
       " 'Grape/Blend_Torrontes',\n",
       " 'Grape/Blend_Ribolla Gialla',\n",
       " 'Grape/Blend_Syrah',\n",
       " 'Grape/Blend_Gamay (slightly sweet)',\n",
       " 'Grape/Blend_Bordeaux',\n",
       " 'Grape/Blend_Chianti (Sangiovese)',\n",
       " 'Grape/Blend_Aglianico ',\n",
       " 'Grape/Blend_Tempranillo/Graziano',\n",
       " 'Grape/Blend_Carignan/Syrah/Grenache/Mouvedre',\n",
       " 'Grape/Blend_Valpolicella Ripasso',\n",
       " 'Grape/Blend_Chianti (Sangiovese/Malvasia Nera/Colorino/Merlot',\n",
       " 'Grape/Blend_Tempranillo/garnacha/mazuelo/graciano',\n",
       " 'Grape/Blend_Syrah/Mourverde/Carignan/Tannat/Grenache/Cinsault',\n",
       " 'Grape/Blend_Douro',\n",
       " 'Grape/Blend_Merlot/Cabernet/Malbec',\n",
       " 'Grape/Blend_Carignan/Syrah/Grenache',\n",
       " 'Grape/Blend_Mencia',\n",
       " 'Grape/Blend_Trincadeira/Aragonez/Syrah',\n",
       " 'Type_Red',\n",
       " 'Type_White']"
      ]
     },
     "execution_count": 143,
     "metadata": {},
     "output_type": "execute_result"
    }
   ],
   "source": [
    "# encoding\n",
    "import category_encoders as ce\n",
    "from sklearn.preprocessing import OneHotEncoder\n",
    "\n",
    "encoder = ce.OneHotEncoder(cols=['Region', 'Grape/Blend', 'Type'], use_cat_names=True, \n",
    "                           handle_unknown='return_nan',return_df=True)\n",
    "X_train = encoder.fit_transform(X)\n",
    "#X_train = np.array(X_train.astype('int'))\n",
    "y_train = np.array(y.astype('int'))\n",
    "\n",
    "y_train = y_train.reshape(-1)\n",
    "list_ = list(X_train.columns.values)\n",
    "list_"
   ]
  },
  {
   "cell_type": "code",
   "execution_count": 145,
   "metadata": {},
   "outputs": [
    {
     "name": "stderr",
     "output_type": "stream",
     "text": [
      "C:\\Users\\Grace\\anaconda3\\lib\\site-packages\\category_encoders\\utils.py:21: FutureWarning: is_categorical is deprecated and will be removed in a future version.  Use is_categorical_dtype instead\n",
      "  elif pd.api.types.is_categorical(cols):\n"
     ]
    },
    {
     "data": {
      "text/plain": [
       "['Vintage',\n",
       " 'Region_France',\n",
       " 'Region_Spain',\n",
       " 'Region_California',\n",
       " 'Region_Argentina',\n",
       " 'Region_Italy',\n",
       " 'Region_Portugal',\n",
       " 'Region_Germany',\n",
       " 'Region_New Zealand',\n",
       " 'Region_Austria',\n",
       " 'Region_South Africa',\n",
       " 'Region_Chile',\n",
       " 'Grape/Blend_Syrah/Granache',\n",
       " 'Grape/Blend_Tempranillo',\n",
       " 'Grape/Blend_Red blend',\n",
       " 'Grape/Blend_Bordeaux',\n",
       " 'Grape/Blend_Malbec/Cabernet/Petit Verdot',\n",
       " 'Grape/Blend_Corvina',\n",
       " 'Grape/Blend_Shiraz/Syrah/Grenache/Cinsault',\n",
       " 'Grape/Blend_Tinta Barroca/Tinta Roriz/Touriga',\n",
       " 'Grape/Blend_Syrah/Grenache/Malbec/Carignan',\n",
       " 'Grape/Blend_Bobal',\n",
       " 'Grape/Blend_Garnacha',\n",
       " 'Grape/Blend_Falaghina',\n",
       " 'Grape/Blend_Riesling',\n",
       " 'Grape/Blend_Sauvignon Blanc',\n",
       " 'Grape/Blend_Gruner Veltliner',\n",
       " 'Grape/Blend_Savignon/Semilion',\n",
       " 'Grape/Blend_Pais',\n",
       " 'Grape/Blend_Bonarda',\n",
       " 'Grape/Blend_Carmenere',\n",
       " 'Grape/Blend_Cabernet',\n",
       " 'Grape/Blend_Pinot Noir',\n",
       " 'Grape/Blend_Barbera',\n",
       " 'Grape/Blend_Sangiovese',\n",
       " 'Grape/Blend_Merlot/Cabernet S/Petit Verdot/Cabernet Franc',\n",
       " 'Grape/Blend_Cabernet/Callet/Syrah/Gorgollasa/Manto Negro',\n",
       " 'Grape/Blend_Chianti Classico',\n",
       " 'Grape/Blend_Granache/Syrah/Morverde',\n",
       " 'Grape/Blend_Aglianico ',\n",
       " 'Grape/Blend_Sangiovese/Cabernet',\n",
       " 'Grape/Blend_Chianti Colli Senesi',\n",
       " 'Type_Red',\n",
       " 'Type_White']"
      ]
     },
     "execution_count": 145,
     "metadata": {},
     "output_type": "execute_result"
    }
   ],
   "source": [
    "# creating test set\n",
    "test = df[['Vintage', 'Region', 'Grape/Blend', 'Type', 'Rating']]\n",
    "test = test[test.isnull().any(axis=1)]\n",
    "test = test[['Vintage', 'Region', 'Grape/Blend', 'Type']]\n",
    "\n",
    "X_test = encoder.fit_transform(test)\n",
    "#X_test = X_test.iloc[:,:-1]\n",
    "#X_test = np.array(X_test.astype('int'))\n",
    "X_test\n",
    "list2 = list(X_test.columns.values)\n",
    "list2"
   ]
  },
  {
   "cell_type": "code",
   "execution_count": 146,
   "metadata": {},
   "outputs": [
    {
     "name": "stdout",
     "output_type": "stream",
     "text": [
      "Region_Australia\n",
      "Region_Slovania\n",
      "Region_Washington\n",
      "Grape/Blend_Corvina/Rondinella/Cabernet\n",
      "Grape/Blend_Merlot\n",
      "Grape/Blend_Tempranillo/Garnacha/Graciano\n",
      "Grape/Blend_Malbec\n",
      "Grape/Blend_Dornfelder Sweet Red\n",
      "Grape/Blend_Roriz/Barroca/Aragonez/Pinot Noir/Touriga\n",
      "Grape/Blend_Merlot/Cabernet Franc/Tannat\n",
      "Grape/Blend_Carmanere Reserva\n",
      "Grape/Blend_Sweet Red\n",
      "Grape/Blend_Cava Sparking\n",
      "Grape/Blend_Prosecco Sparkling\n",
      "Grape/Blend_Torrontes\n",
      "Grape/Blend_Ribolla Gialla\n",
      "Grape/Blend_Syrah\n",
      "Grape/Blend_Gamay (slightly sweet)\n",
      "Grape/Blend_Chianti (Sangiovese)\n",
      "Grape/Blend_Tempranillo/Graziano\n",
      "Grape/Blend_Carignan/Syrah/Grenache/Mouvedre\n",
      "Grape/Blend_Valpolicella Ripasso\n",
      "Grape/Blend_Chianti (Sangiovese/Malvasia Nera/Colorino/Merlot\n",
      "Grape/Blend_Tempranillo/garnacha/mazuelo/graciano\n",
      "Grape/Blend_Syrah/Mourverde/Carignan/Tannat/Grenache/Cinsault\n",
      "Grape/Blend_Douro\n",
      "Grape/Blend_Merlot/Cabernet/Malbec\n",
      "Grape/Blend_Carignan/Syrah/Grenache\n",
      "Grape/Blend_Mencia\n",
      "Grape/Blend_Trincadeira/Aragonez/Syrah\n"
     ]
    }
   ],
   "source": [
    "for item in list_:\n",
    "    if item in list2:\n",
    "        continue\n",
    "    else:\n",
    "        print(item)"
   ]
  },
  {
   "cell_type": "markdown",
   "metadata": {},
   "source": [
    "### Visualization"
   ]
  },
  {
   "cell_type": "code",
   "execution_count": 98,
   "metadata": {},
   "outputs": [
    {
     "data": {
      "text/plain": [
       "<AxesSubplot:xlabel='Vintage', ylabel='Rating'>"
      ]
     },
     "execution_count": 98,
     "metadata": {},
     "output_type": "execute_result"
    },
    {
     "data": {
      "image/png": "[encoded data removed]",
      "text/plain": [
       "<Figure size 432x288 with 1 Axes>"
      ]
     },
     "metadata": {
      "needs_background": "light"
     },
     "output_type": "display_data"
    }
   ],
   "source": [
    "import seaborn as sns\n",
    "%matplotlib inline \n",
    "\n",
    "sns.barplot(x='Vintage', y='Rating', data=train)"
   ]
  },
  {
   "cell_type": "code",
   "execution_count": 99,
   "metadata": {
    "scrolled": false
   },
   "outputs": [
    {
     "data": {
      "text/plain": [
       "seaborn.axisgrid.FacetGrid"
      ]
     },
     "execution_count": 99,
     "metadata": {},
     "output_type": "execute_result"
    },
    {
     "data": {
      "image/png": "[encoded data removed]",
      "text/plain": [
       "<Figure size 425.125x360 with 1 Axes>"
      ]
     },
     "metadata": {
      "needs_background": "light"
     },
     "output_type": "display_data"
    }
   ],
   "source": [
    "fig_lvl = sns.catplot(data=train, x='Rating', y='Region', hue='Type')\n",
    "type(fig_lvl)"
   ]
  },
  {
   "cell_type": "code",
   "execution_count": 100,
   "metadata": {},
   "outputs": [
    {
     "data": {
      "text/plain": [
       "seaborn.axisgrid.FacetGrid"
      ]
     },
     "execution_count": 100,
     "metadata": {},
     "output_type": "execute_result"
    },
    {
     "data": {
      "image/png": "[encoded data removed]",
      "text/plain": [
       "<Figure size 713.125x432 with 1 Axes>"
      ]
     },
     "metadata": {
      "needs_background": "light"
     },
     "output_type": "display_data"
    }
   ],
   "source": [
    "fig_blend = sns.catplot(data=train, x='Rating', y='Grape/Blend', hue='Type', height=6, aspect=1.5)\n",
    "type(fig_blend)"
   ]
  },
  {
   "cell_type": "markdown",
   "metadata": {},
   "source": [
    "### Creating the Model"
   ]
  },
  {
   "cell_type": "code",
   "execution_count": 101,
   "metadata": {},
   "outputs": [
    {
     "data": {
      "text/plain": [
       "RandomForestRegressor()"
      ]
     },
     "execution_count": 101,
     "metadata": {},
     "output_type": "execute_result"
    }
   ],
   "source": [
    "from sklearn.ensemble import RandomForestRegressor\n",
    "regressor = RandomForestRegressor()\n",
    "regressor.fit(X_train, y_train)"
   ]
  },
  {
   "cell_type": "code",
   "execution_count": 119,
   "metadata": {},
   "outputs": [
    {
     "ename": "ValueError",
     "evalue": "X has 44 features, but DecisionTreeRegressor is expecting 49 features as input.",
     "output_type": "error",
     "traceback": [
      "\u001b[1;31m---------------------------------------------------------------------------\u001b[0m",
      "\u001b[1;31mValueError\u001b[0m                                Traceback (most recent call last)",
      "\u001b[1;32m<ipython-input-119-0bee71dda1f1>\u001b[0m in \u001b[0;36m<module>\u001b[1;34m\u001b[0m\n\u001b[1;32m----> 1\u001b[1;33m \u001b[0mregressor\u001b[0m\u001b[1;33m.\u001b[0m\u001b[0mpredict\u001b[0m\u001b[1;33m(\u001b[0m\u001b[0mX_test\u001b[0m\u001b[1;33m)\u001b[0m\u001b[1;33m\u001b[0m\u001b[1;33m\u001b[0m\u001b[0m\n\u001b[0m",
      "\u001b[1;32m~\\anaconda3\\lib\\site-packages\\sklearn\\ensemble\\_forest.py\u001b[0m in \u001b[0;36mpredict\u001b[1;34m(self, X)\u001b[0m\n\u001b[0;32m    782\u001b[0m         \u001b[0mcheck_is_fitted\u001b[0m\u001b[1;33m(\u001b[0m\u001b[0mself\u001b[0m\u001b[1;33m)\u001b[0m\u001b[1;33m\u001b[0m\u001b[1;33m\u001b[0m\u001b[0m\n\u001b[0;32m    783\u001b[0m         \u001b[1;31m# Check data\u001b[0m\u001b[1;33m\u001b[0m\u001b[1;33m\u001b[0m\u001b[1;33m\u001b[0m\u001b[0m\n\u001b[1;32m--> 784\u001b[1;33m         \u001b[0mX\u001b[0m \u001b[1;33m=\u001b[0m \u001b[0mself\u001b[0m\u001b[1;33m.\u001b[0m\u001b[0m_validate_X_predict\u001b[0m\u001b[1;33m(\u001b[0m\u001b[0mX\u001b[0m\u001b[1;33m)\u001b[0m\u001b[1;33m\u001b[0m\u001b[1;33m\u001b[0m\u001b[0m\n\u001b[0m\u001b[0;32m    785\u001b[0m \u001b[1;33m\u001b[0m\u001b[0m\n\u001b[0;32m    786\u001b[0m         \u001b[1;31m# Assign chunk of trees to jobs\u001b[0m\u001b[1;33m\u001b[0m\u001b[1;33m\u001b[0m\u001b[1;33m\u001b[0m\u001b[0m\n",
      "\u001b[1;32m~\\anaconda3\\lib\\site-packages\\sklearn\\ensemble\\_forest.py\u001b[0m in \u001b[0;36m_validate_X_predict\u001b[1;34m(self, X)\u001b[0m\n\u001b[0;32m    420\u001b[0m         \u001b[0mcheck_is_fitted\u001b[0m\u001b[1;33m(\u001b[0m\u001b[0mself\u001b[0m\u001b[1;33m)\u001b[0m\u001b[1;33m\u001b[0m\u001b[1;33m\u001b[0m\u001b[0m\n\u001b[0;32m    421\u001b[0m \u001b[1;33m\u001b[0m\u001b[0m\n\u001b[1;32m--> 422\u001b[1;33m         \u001b[1;32mreturn\u001b[0m \u001b[0mself\u001b[0m\u001b[1;33m.\u001b[0m\u001b[0mestimators_\u001b[0m\u001b[1;33m[\u001b[0m\u001b[1;36m0\u001b[0m\u001b[1;33m]\u001b[0m\u001b[1;33m.\u001b[0m\u001b[0m_validate_X_predict\u001b[0m\u001b[1;33m(\u001b[0m\u001b[0mX\u001b[0m\u001b[1;33m,\u001b[0m \u001b[0mcheck_input\u001b[0m\u001b[1;33m=\u001b[0m\u001b[1;32mTrue\u001b[0m\u001b[1;33m)\u001b[0m\u001b[1;33m\u001b[0m\u001b[1;33m\u001b[0m\u001b[0m\n\u001b[0m\u001b[0;32m    423\u001b[0m \u001b[1;33m\u001b[0m\u001b[0m\n\u001b[0;32m    424\u001b[0m     \u001b[1;33m@\u001b[0m\u001b[0mproperty\u001b[0m\u001b[1;33m\u001b[0m\u001b[1;33m\u001b[0m\u001b[0m\n",
      "\u001b[1;32m~\\anaconda3\\lib\\site-packages\\sklearn\\tree\\_classes.py\u001b[0m in \u001b[0;36m_validate_X_predict\u001b[1;34m(self, X, check_input)\u001b[0m\n\u001b[0;32m    400\u001b[0m         \u001b[1;34m\"\"\"Validate the training data on predict (probabilities).\"\"\"\u001b[0m\u001b[1;33m\u001b[0m\u001b[1;33m\u001b[0m\u001b[0m\n\u001b[0;32m    401\u001b[0m         \u001b[1;32mif\u001b[0m \u001b[0mcheck_input\u001b[0m\u001b[1;33m:\u001b[0m\u001b[1;33m\u001b[0m\u001b[1;33m\u001b[0m\u001b[0m\n\u001b[1;32m--> 402\u001b[1;33m             X = self._validate_data(X, dtype=DTYPE, accept_sparse=\"csr\",\n\u001b[0m\u001b[0;32m    403\u001b[0m                                     reset=False)\n\u001b[0;32m    404\u001b[0m             if issparse(X) and (X.indices.dtype != np.intc or\n",
      "\u001b[1;32m~\\anaconda3\\lib\\site-packages\\sklearn\\base.py\u001b[0m in \u001b[0;36m_validate_data\u001b[1;34m(self, X, y, reset, validate_separately, **check_params)\u001b[0m\n\u001b[0;32m    435\u001b[0m \u001b[1;33m\u001b[0m\u001b[0m\n\u001b[0;32m    436\u001b[0m         \u001b[1;32mif\u001b[0m \u001b[0mcheck_params\u001b[0m\u001b[1;33m.\u001b[0m\u001b[0mget\u001b[0m\u001b[1;33m(\u001b[0m\u001b[1;34m'ensure_2d'\u001b[0m\u001b[1;33m,\u001b[0m \u001b[1;32mTrue\u001b[0m\u001b[1;33m)\u001b[0m\u001b[1;33m:\u001b[0m\u001b[1;33m\u001b[0m\u001b[1;33m\u001b[0m\u001b[0m\n\u001b[1;32m--> 437\u001b[1;33m             \u001b[0mself\u001b[0m\u001b[1;33m.\u001b[0m\u001b[0m_check_n_features\u001b[0m\u001b[1;33m(\u001b[0m\u001b[0mX\u001b[0m\u001b[1;33m,\u001b[0m \u001b[0mreset\u001b[0m\u001b[1;33m=\u001b[0m\u001b[0mreset\u001b[0m\u001b[1;33m)\u001b[0m\u001b[1;33m\u001b[0m\u001b[1;33m\u001b[0m\u001b[0m\n\u001b[0m\u001b[0;32m    438\u001b[0m \u001b[1;33m\u001b[0m\u001b[0m\n\u001b[0;32m    439\u001b[0m         \u001b[1;32mreturn\u001b[0m \u001b[0mout\u001b[0m\u001b[1;33m\u001b[0m\u001b[1;33m\u001b[0m\u001b[0m\n",
      "\u001b[1;32m~\\anaconda3\\lib\\site-packages\\sklearn\\base.py\u001b[0m in \u001b[0;36m_check_n_features\u001b[1;34m(self, X, reset)\u001b[0m\n\u001b[0;32m    363\u001b[0m \u001b[1;33m\u001b[0m\u001b[0m\n\u001b[0;32m    364\u001b[0m         \u001b[1;32mif\u001b[0m \u001b[0mn_features\u001b[0m \u001b[1;33m!=\u001b[0m \u001b[0mself\u001b[0m\u001b[1;33m.\u001b[0m\u001b[0mn_features_in_\u001b[0m\u001b[1;33m:\u001b[0m\u001b[1;33m\u001b[0m\u001b[1;33m\u001b[0m\u001b[0m\n\u001b[1;32m--> 365\u001b[1;33m             raise ValueError(\n\u001b[0m\u001b[0;32m    366\u001b[0m                 \u001b[1;34mf\"X has {n_features} features, but {self.__class__.__name__} \"\u001b[0m\u001b[1;33m\u001b[0m\u001b[1;33m\u001b[0m\u001b[0m\n\u001b[0;32m    367\u001b[0m                 f\"is expecting {self.n_features_in_} features as input.\")\n",
      "\u001b[1;31mValueError\u001b[0m: X has 44 features, but DecisionTreeRegressor is expecting 49 features as input."
     ]
    }
   ],
   "source": [
    "regressor.predict(X_test)"
   ]
  },
  {
   "cell_type": "code",
   "execution_count": 129,
   "metadata": {},
   "outputs": [
    {
     "data": {
      "text/plain": [
       "(56, 49)"
      ]
     },
     "execution_count": 129,
     "metadata": {},
     "output_type": "execute_result"
    }
   ],
   "source": [
    "X_train.shape"
   ]
  },
  {
   "cell_type": "code",
   "execution_count": 126,
   "metadata": {},
   "outputs": [
    {
     "ename": "ValueError",
     "evalue": "cannot reshape array of size 1628 into shape (34,49)",
     "output_type": "error",
     "traceback": [
      "\u001b[1;31m---------------------------------------------------------------------------\u001b[0m",
      "\u001b[1;31mValueError\u001b[0m                                Traceback (most recent call last)",
      "\u001b[1;32m<ipython-input-126-f1bc91efed53>\u001b[0m in \u001b[0;36m<module>\u001b[1;34m\u001b[0m\n\u001b[1;32m----> 1\u001b[1;33m \u001b[0mX_test\u001b[0m\u001b[1;33m.\u001b[0m\u001b[0mreshape\u001b[0m\u001b[1;33m(\u001b[0m\u001b[1;36m34\u001b[0m\u001b[1;33m,\u001b[0m\u001b[1;36m49\u001b[0m\u001b[1;33m)\u001b[0m\u001b[1;33m\u001b[0m\u001b[1;33m\u001b[0m\u001b[0m\n\u001b[0m",
      "\u001b[1;31mValueError\u001b[0m: cannot reshape array of size 1628 into shape (34,49)"
     ]
    }
   ],
   "source": [
    "X_test.reshape()"
   ]
  },
  {
   "cell_type": "code",
   "execution_count": 133,
   "metadata": {},
   "outputs": [
    {
     "data": {
      "text/plain": [
       "(37, 44)"
      ]
     },
     "execution_count": 133,
     "metadata": {},
     "output_type": "execute_result"
    }
   ],
   "source": [
    "X_test.shape"
   ]
  },
  {
   "cell_type": "code",
   "execution_count": 130,
   "metadata": {},
   "outputs": [
    {
     "data": {
      "text/plain": [
       "2744"
      ]
     },
     "execution_count": 130,
     "metadata": {},
     "output_type": "execute_result"
    }
   ],
   "source": [
    "X_train.size"
   ]
  },
  {
   "cell_type": "code",
   "execution_count": null,
   "metadata": {},
   "outputs": [],
   "source": []
  }
 ],
 "metadata": {
  "kernelspec": {
   "display_name": "Python 3",
   "language": "python",
   "name": "python3"
  },
  "language_info": {
   "codemirror_mode": {
    "name": "ipython",
    "version": 3
   },
   "file_extension": ".py",
   "mimetype": "text/x-python",
   "name": "python",
   "nbconvert_exporter": "python",
   "pygments_lexer": "ipython3",
   "version": "3.8.8"
  }
 },
 "nbformat": 4,
 "nbformat_minor": 4
}
