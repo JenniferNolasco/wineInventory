{
 "cells": [
  {
   "cell_type": "markdown",
   "metadata": {},
   "source": [
    "# Wine Inventory"
   ]
  },
  {
   "cell_type": "markdown",
   "metadata": {},
   "source": [
    "There are a collection of wines that have been cataloged by wines we have purchased and consumed over the past few years: \"onShelf.csv\""
   ]
  },
  {
   "cell_type": "code",
   "execution_count": 106,
   "metadata": {},
   "outputs": [],
   "source": [
    "import pandas as pd\n",
    "import numpy as np\n",
    "import matplotlib.pyplot as plt"
   ]
  },
  {
   "cell_type": "code",
   "execution_count": 132,
   "metadata": {},
   "outputs": [],
   "source": [
    "# creating a single dataset of all the wines\n",
    "\n",
    "headers = ['Location Code', 'Location', 'Vintage', 'Region', 'Wine Name', 'Grape/Blend', 'Quantity', \n",
    "           'Rating', 'Unit Purchase Price', 'Type', 'Purchase Date']\n",
    "\n",
    "df = pd.read_csv('onShelf.csv', names=headers, header=0, index_col=False)\n",
    "\n",
    "df = df.reset_index(drop=True)"
   ]
  },
  {
   "cell_type": "code",
   "execution_count": 133,
   "metadata": {
    "scrolled": true
   },
   "outputs": [
    {
     "data": {
      "text/html": [
       "<div>\n",
       "<style scoped>\n",
       "    .dataframe tbody tr th:only-of-type {\n",
       "        vertical-align: middle;\n",
       "    }\n",
       "\n",
       "    .dataframe tbody tr th {\n",
       "        vertical-align: top;\n",
       "    }\n",
       "\n",
       "    .dataframe thead th {\n",
       "        text-align: right;\n",
       "    }\n",
       "</style>\n",
       "<table border=\"1\" class=\"dataframe\">\n",
       "  <thead>\n",
       "    <tr style=\"text-align: right;\">\n",
       "      <th></th>\n",
       "      <th>Location Code</th>\n",
       "      <th>Location</th>\n",
       "      <th>Vintage</th>\n",
       "      <th>Region</th>\n",
       "      <th>Wine Name</th>\n",
       "      <th>Grape/Blend</th>\n",
       "      <th>Quantity</th>\n",
       "      <th>Rating</th>\n",
       "      <th>Unit Purchase Price</th>\n",
       "      <th>Type</th>\n",
       "      <th>Purchase Date</th>\n",
       "    </tr>\n",
       "  </thead>\n",
       "  <tbody>\n",
       "    <tr>\n",
       "      <th>0</th>\n",
       "      <td>TL1</td>\n",
       "      <td>Bar</td>\n",
       "      <td>2017.0</td>\n",
       "      <td>France</td>\n",
       "      <td>Domaine Lafage Bastide Miraflors Côtes du Rous...</td>\n",
       "      <td>Syrah/Granache</td>\n",
       "      <td>1.0</td>\n",
       "      <td>NaN</td>\n",
       "      <td>$14.25</td>\n",
       "      <td>Red</td>\n",
       "      <td>11/7/2020</td>\n",
       "    </tr>\n",
       "    <tr>\n",
       "      <th>1</th>\n",
       "      <td>TL2</td>\n",
       "      <td>Bar</td>\n",
       "      <td>2017.0</td>\n",
       "      <td>Italy</td>\n",
       "      <td>Scaia Paradiso</td>\n",
       "      <td>Corvina/Rondinella/Cabernet</td>\n",
       "      <td>1.0</td>\n",
       "      <td>4.0</td>\n",
       "      <td>$19.00</td>\n",
       "      <td>Red</td>\n",
       "      <td>5/30/2020</td>\n",
       "    </tr>\n",
       "    <tr>\n",
       "      <th>2</th>\n",
       "      <td>TL3</td>\n",
       "      <td>Bar</td>\n",
       "      <td>2016.0</td>\n",
       "      <td>Spain</td>\n",
       "      <td>Nubori Crianza Rioja</td>\n",
       "      <td>Tempranillo</td>\n",
       "      <td>1.0</td>\n",
       "      <td>4.0</td>\n",
       "      <td>$16.00</td>\n",
       "      <td>Red</td>\n",
       "      <td>11/23/2019</td>\n",
       "    </tr>\n",
       "    <tr>\n",
       "      <th>3</th>\n",
       "      <td>TL3</td>\n",
       "      <td>Bar</td>\n",
       "      <td>2016.0</td>\n",
       "      <td>Spain</td>\n",
       "      <td>Cyan Toro</td>\n",
       "      <td>Tempranillo</td>\n",
       "      <td>1.0</td>\n",
       "      <td>NaN</td>\n",
       "      <td>$16.50</td>\n",
       "      <td>Red</td>\n",
       "      <td>11/7/2020</td>\n",
       "    </tr>\n",
       "    <tr>\n",
       "      <th>4</th>\n",
       "      <td>TL4</td>\n",
       "      <td>Bar</td>\n",
       "      <td>2016.0</td>\n",
       "      <td>California</td>\n",
       "      <td>Sterling</td>\n",
       "      <td>Merlot</td>\n",
       "      <td>1.0</td>\n",
       "      <td>4.0</td>\n",
       "      <td>$-</td>\n",
       "      <td>Red</td>\n",
       "      <td>NaN</td>\n",
       "    </tr>\n",
       "  </tbody>\n",
       "</table>\n",
       "</div>"
      ],
      "text/plain": [
       "  Location Code Location  Vintage      Region  \\\n",
       "0           TL1      Bar   2017.0      France   \n",
       "1           TL2      Bar   2017.0       Italy   \n",
       "2           TL3      Bar   2016.0       Spain   \n",
       "3           TL3      Bar   2016.0       Spain   \n",
       "4           TL4      Bar   2016.0  California   \n",
       "\n",
       "                                           Wine Name  \\\n",
       "0  Domaine Lafage Bastide Miraflors Côtes du Rous...   \n",
       "1                                     Scaia Paradiso   \n",
       "2                               Nubori Crianza Rioja   \n",
       "3                                          Cyan Toro   \n",
       "4                                           Sterling   \n",
       "\n",
       "                   Grape/Blend  Quantity  Rating Unit Purchase Price Type  \\\n",
       "0               Syrah/Granache       1.0     NaN             $14.25   Red   \n",
       "1  Corvina/Rondinella/Cabernet       1.0     4.0             $19.00   Red   \n",
       "2                  Tempranillo       1.0     4.0             $16.00   Red   \n",
       "3                  Tempranillo       1.0     NaN             $16.50   Red   \n",
       "4                       Merlot       1.0     4.0               $-     Red   \n",
       "\n",
       "  Purchase Date  \n",
       "0     11/7/2020  \n",
       "1     5/30/2020  \n",
       "2    11/23/2019  \n",
       "3     11/7/2020  \n",
       "4           NaN  "
      ]
     },
     "execution_count": 133,
     "metadata": {},
     "output_type": "execute_result"
    }
   ],
   "source": [
    "df.head()"
   ]
  },
  {
   "cell_type": "markdown",
   "metadata": {},
   "source": [
    "### Handling Missing Values"
   ]
  },
  {
   "cell_type": "code",
   "execution_count": 134,
   "metadata": {},
   "outputs": [],
   "source": [
    "df.drop(df[df['Wine Name'].isna() == True].index, inplace=True)"
   ]
  },
  {
   "cell_type": "code",
   "execution_count": 135,
   "metadata": {},
   "outputs": [
    {
     "data": {
      "text/plain": [
       "Location Code           0\n",
       "Location                0\n",
       "Vintage                 3\n",
       "Region                  0\n",
       "Wine Name               0\n",
       "Grape/Blend             0\n",
       "Quantity                0\n",
       "Rating                 37\n",
       "Unit Purchase Price     0\n",
       "Type                    0\n",
       "Purchase Date          12\n",
       "dtype: int64"
      ]
     },
     "execution_count": 135,
     "metadata": {},
     "output_type": "execute_result"
    }
   ],
   "source": [
    "df.isna().sum()"
   ]
  },
  {
   "cell_type": "code",
   "execution_count": 136,
   "metadata": {},
   "outputs": [],
   "source": [
    "df['Vintage'] = df['Vintage'].fillna(0)"
   ]
  },
  {
   "cell_type": "code",
   "execution_count": 137,
   "metadata": {},
   "outputs": [],
   "source": [
    "df = df.astype({'Quantity':'int', 'Vintage':'int'}) "
   ]
  },
  {
   "cell_type": "code",
   "execution_count": 138,
   "metadata": {},
   "outputs": [],
   "source": [
    "df.loc[68, 'Quantity'] = 0 # Mara - Drank last bottle\n",
    "df.loc[23, 'Quantity'] = 1 # Chateau Labastide Orliac drank one"
   ]
  },
  {
   "cell_type": "markdown",
   "metadata": {},
   "source": [
    "### Splitting and Encoding"
   ]
  },
  {
   "cell_type": "code",
   "execution_count": 163,
   "metadata": {},
   "outputs": [
    {
     "name": "stdout",
     "output_type": "stream",
     "text": [
      "<class 'pandas.core.frame.DataFrame'>\n",
      "Int64Index: 56 entries, 1 to 92\n",
      "Data columns (total 5 columns):\n",
      " #   Column       Non-Null Count  Dtype  \n",
      "---  ------       --------------  -----  \n",
      " 0   Vintage      56 non-null     int32  \n",
      " 1   Region       56 non-null     object \n",
      " 2   Grape/Blend  56 non-null     object \n",
      " 3   Type         56 non-null     object \n",
      " 4   Rating       56 non-null     float64\n",
      "dtypes: float64(1), int32(1), object(3)\n",
      "memory usage: 2.4+ KB\n"
     ]
    }
   ],
   "source": [
    "# creating the training set\n",
    "train = df[['Vintage', 'Region', 'Grape/Blend', 'Type', 'Rating']]\n",
    "train = train.dropna(axis=0)\n",
    "train.info()"
   ]
  },
  {
   "cell_type": "code",
   "execution_count": 195,
   "metadata": {},
   "outputs": [],
   "source": [
    "X = train[['Vintage', 'Region', 'Grape/Blend', 'Type']]\n",
    "y = train[['Rating']]"
   ]
  },
  {
   "cell_type": "code",
   "execution_count": null,
   "metadata": {},
   "outputs": [],
   "source": []
  },
  {
   "cell_type": "markdown",
   "metadata": {},
   "source": [
    "### Visualization"
   ]
  },
  {
   "cell_type": "code",
   "execution_count": null,
   "metadata": {},
   "outputs": [],
   "source": []
  },
  {
   "cell_type": "code",
   "execution_count": null,
   "metadata": {},
   "outputs": [],
   "source": []
  },
  {
   "cell_type": "code",
   "execution_count": null,
   "metadata": {},
   "outputs": [],
   "source": []
  }
 ],
 "metadata": {
  "kernelspec": {
   "display_name": "Python 3",
   "language": "python",
   "name": "python3"
  },
  "language_info": {
   "codemirror_mode": {
    "name": "ipython",
    "version": 3
   },
   "file_extension": ".py",
   "mimetype": "text/x-python",
   "name": "python",
   "nbconvert_exporter": "python",
   "pygments_lexer": "ipython3",
   "version": "3.8.3"
  }
 },
 "nbformat": 4,
 "nbformat_minor": 4
}
