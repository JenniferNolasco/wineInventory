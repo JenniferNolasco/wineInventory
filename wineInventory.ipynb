{
 "cells": [
  {
   "cell_type": "markdown",
   "metadata": {},
   "source": [
    "# Wine Inventory"
   ]
  },
  {
   "cell_type": "markdown",
   "metadata": {},
   "source": [
    "There are a collection of wines that have been cataloged by wines we have purchased and consumed over the past few years: \"onShelf.csv\". The goal of this analysis is to clean up the inventory, observe the factors that contribute most to how much a wine is enjoyed, and use them to predict the rating for wines we have not tasted yet."
   ]
  },
  {
   "cell_type": "code",
   "execution_count": 2,
   "metadata": {},
   "outputs": [],
   "source": [
    "import pandas as pd\n",
    "import numpy as np\n",
    "import matplotlib.pyplot as plt"
   ]
  },
  {
   "cell_type": "code",
   "execution_count": 3,
   "metadata": {},
   "outputs": [],
   "source": [
    "# creating a single dataset of all the wines\n",
    "\n",
    "headers = ['Location Code', 'Location', 'Vintage', 'Region', 'Wine Name', 'Grape/Blend', 'Quantity', \n",
    "           'Rating', 'Unit Purchase Price', 'Type', 'Purchase Date']\n",
    "\n",
    "df = pd.read_csv('onShelf.csv', names=headers, header=0, index_col=False)\n",
    "\n",
    "df = df.reset_index(drop=True)"
   ]
  },
  {
   "cell_type": "code",
   "execution_count": 4,
   "metadata": {
    "scrolled": true
   },
   "outputs": [
    {
     "data": {
      "text/html": [
       "<div>\n",
       "<style scoped>\n",
       "    .dataframe tbody tr th:only-of-type {\n",
       "        vertical-align: middle;\n",
       "    }\n",
       "\n",
       "    .dataframe tbody tr th {\n",
       "        vertical-align: top;\n",
       "    }\n",
       "\n",
       "    .dataframe thead th {\n",
       "        text-align: right;\n",
       "    }\n",
       "</style>\n",
       "<table border=\"1\" class=\"dataframe\">\n",
       "  <thead>\n",
       "    <tr style=\"text-align: right;\">\n",
       "      <th></th>\n",
       "      <th>Location Code</th>\n",
       "      <th>Location</th>\n",
       "      <th>Vintage</th>\n",
       "      <th>Region</th>\n",
       "      <th>Wine Name</th>\n",
       "      <th>Grape/Blend</th>\n",
       "      <th>Quantity</th>\n",
       "      <th>Rating</th>\n",
       "      <th>Unit Purchase Price</th>\n",
       "      <th>Type</th>\n",
       "      <th>Purchase Date</th>\n",
       "    </tr>\n",
       "  </thead>\n",
       "  <tbody>\n",
       "    <tr>\n",
       "      <th>0</th>\n",
       "      <td>TL1</td>\n",
       "      <td>Bar</td>\n",
       "      <td>2017.0</td>\n",
       "      <td>France</td>\n",
       "      <td>Domaine Lafage Bastide Miraflors Côtes du Rous...</td>\n",
       "      <td>Syrah/Granache</td>\n",
       "      <td>1.0</td>\n",
       "      <td>NaN</td>\n",
       "      <td>$14.25</td>\n",
       "      <td>Red</td>\n",
       "      <td>11/7/2020</td>\n",
       "    </tr>\n",
       "    <tr>\n",
       "      <th>1</th>\n",
       "      <td>TL2</td>\n",
       "      <td>Bar</td>\n",
       "      <td>2017.0</td>\n",
       "      <td>Italy</td>\n",
       "      <td>Scaia Paradiso</td>\n",
       "      <td>Corvina/Rondinella/Cabernet</td>\n",
       "      <td>1.0</td>\n",
       "      <td>4.0</td>\n",
       "      <td>$19.00</td>\n",
       "      <td>Red</td>\n",
       "      <td>5/30/2020</td>\n",
       "    </tr>\n",
       "    <tr>\n",
       "      <th>2</th>\n",
       "      <td>TL3</td>\n",
       "      <td>Bar</td>\n",
       "      <td>2016.0</td>\n",
       "      <td>Spain</td>\n",
       "      <td>Nubori Crianza Rioja</td>\n",
       "      <td>Tempranillo</td>\n",
       "      <td>1.0</td>\n",
       "      <td>4.0</td>\n",
       "      <td>$16.00</td>\n",
       "      <td>Red</td>\n",
       "      <td>11/23/2019</td>\n",
       "    </tr>\n",
       "    <tr>\n",
       "      <th>3</th>\n",
       "      <td>TL3</td>\n",
       "      <td>Bar</td>\n",
       "      <td>2016.0</td>\n",
       "      <td>Spain</td>\n",
       "      <td>Cyan Toro</td>\n",
       "      <td>Tempranillo</td>\n",
       "      <td>1.0</td>\n",
       "      <td>NaN</td>\n",
       "      <td>$16.50</td>\n",
       "      <td>Red</td>\n",
       "      <td>11/7/2020</td>\n",
       "    </tr>\n",
       "    <tr>\n",
       "      <th>4</th>\n",
       "      <td>TL4</td>\n",
       "      <td>Bar</td>\n",
       "      <td>2016.0</td>\n",
       "      <td>California</td>\n",
       "      <td>Sterling</td>\n",
       "      <td>Merlot</td>\n",
       "      <td>1.0</td>\n",
       "      <td>4.0</td>\n",
       "      <td>$-</td>\n",
       "      <td>Red</td>\n",
       "      <td>NaN</td>\n",
       "    </tr>\n",
       "  </tbody>\n",
       "</table>\n",
       "</div>"
      ],
      "text/plain": [
       "  Location Code Location  Vintage      Region  \\\n",
       "0           TL1      Bar   2017.0      France   \n",
       "1           TL2      Bar   2017.0       Italy   \n",
       "2           TL3      Bar   2016.0       Spain   \n",
       "3           TL3      Bar   2016.0       Spain   \n",
       "4           TL4      Bar   2016.0  California   \n",
       "\n",
       "                                           Wine Name  \\\n",
       "0  Domaine Lafage Bastide Miraflors Côtes du Rous...   \n",
       "1                                     Scaia Paradiso   \n",
       "2                               Nubori Crianza Rioja   \n",
       "3                                          Cyan Toro   \n",
       "4                                           Sterling   \n",
       "\n",
       "                   Grape/Blend  Quantity  Rating Unit Purchase Price Type  \\\n",
       "0               Syrah/Granache       1.0     NaN             $14.25   Red   \n",
       "1  Corvina/Rondinella/Cabernet       1.0     4.0             $19.00   Red   \n",
       "2                  Tempranillo       1.0     4.0             $16.00   Red   \n",
       "3                  Tempranillo       1.0     NaN             $16.50   Red   \n",
       "4                       Merlot       1.0     4.0               $-     Red   \n",
       "\n",
       "  Purchase Date  \n",
       "0     11/7/2020  \n",
       "1     5/30/2020  \n",
       "2    11/23/2019  \n",
       "3     11/7/2020  \n",
       "4           NaN  "
      ]
     },
     "execution_count": 4,
     "metadata": {},
     "output_type": "execute_result"
    }
   ],
   "source": [
    "df.head()"
   ]
  },
  {
   "cell_type": "markdown",
   "metadata": {},
   "source": [
    "### Handling Missing Values"
   ]
  },
  {
   "cell_type": "code",
   "execution_count": 5,
   "metadata": {},
   "outputs": [],
   "source": [
    "df.drop(df[df['Wine Name'].isna() == True].index, inplace=True)"
   ]
  },
  {
   "cell_type": "code",
   "execution_count": 6,
   "metadata": {},
   "outputs": [
    {
     "data": {
      "text/plain": [
       "Location Code           0\n",
       "Location                0\n",
       "Vintage                 3\n",
       "Region                  0\n",
       "Wine Name               0\n",
       "Grape/Blend             0\n",
       "Quantity                0\n",
       "Rating                 37\n",
       "Unit Purchase Price     0\n",
       "Type                    0\n",
       "Purchase Date          12\n",
       "dtype: int64"
      ]
     },
     "execution_count": 6,
     "metadata": {},
     "output_type": "execute_result"
    }
   ],
   "source": [
    "df.isna().sum()"
   ]
  },
  {
   "cell_type": "code",
   "execution_count": 7,
   "metadata": {},
   "outputs": [],
   "source": [
    "df['Vintage'] = df['Vintage'].fillna(0)"
   ]
  },
  {
   "cell_type": "code",
   "execution_count": 8,
   "metadata": {},
   "outputs": [],
   "source": [
    "df = df.astype({'Quantity':'int', 'Vintage':'int'}) "
   ]
  },
  {
   "cell_type": "code",
   "execution_count": 9,
   "metadata": {},
   "outputs": [],
   "source": [
    "df.loc[68, 'Quantity'] = 0 # Mara - Drank last bottle\n",
    "df.loc[23, 'Quantity'] = 1 # Chateau Labastide Orliac drank one"
   ]
  },
  {
   "cell_type": "markdown",
   "metadata": {},
   "source": [
    "### Splitting and Encoding"
   ]
  },
  {
   "cell_type": "code",
   "execution_count": 69,
   "metadata": {},
   "outputs": [],
   "source": [
    "data = df[['Vintage', 'Region', 'Grape/Blend', 'Type', 'Rating']]"
   ]
  },
  {
   "cell_type": "code",
   "execution_count": 70,
   "metadata": {},
   "outputs": [
    {
     "name": "stderr",
     "output_type": "stream",
     "text": [
      "C:\\Users\\Grace\\anaconda3\\lib\\site-packages\\category_encoders\\utils.py:21: FutureWarning: is_categorical is deprecated and will be removed in a future version.  Use is_categorical_dtype instead\n",
      "  elif pd.api.types.is_categorical(cols):\n"
     ]
    }
   ],
   "source": [
    "# encoding\n",
    "import category_encoders as ce\n",
    "from sklearn.preprocessing import OneHotEncoder\n",
    "\n",
    "encoder = ce.OneHotEncoder(cols=['Region', 'Grape/Blend', 'Type'], use_cat_names=True, \n",
    "                           handle_unknown='return_nan',return_df=True)\n",
    "\n",
    "data = encoder.fit_transform(data)"
   ]
  },
  {
   "cell_type": "code",
   "execution_count": 79,
   "metadata": {},
   "outputs": [],
   "source": [
    "train_data = data.dropna(axis=0)\n",
    "test_data = data[data['Rating'].isna()]"
   ]
  },
  {
   "cell_type": "code",
   "execution_count": 85,
   "metadata": {},
   "outputs": [],
   "source": [
    "# splitting the test/train sets\n",
    "X_train = np.array(train_data.iloc[:,:-1].astype('int'))\n",
    "y_train = np.array(train_data.iloc[:,-1])\n",
    "\n",
    "X_test = np.array(test_data.iloc[:,:-1].astype('int'))"
   ]
  },
  {
   "cell_type": "markdown",
   "metadata": {},
   "source": [
    "### Visualization"
   ]
  },
  {
   "cell_type": "code",
   "execution_count": 158,
   "metadata": {},
   "outputs": [
    {
     "data": {
      "text/plain": [
       "<AxesSubplot:xlabel='Vintage', ylabel='Rating'>"
      ]
     },
     "execution_count": 158,
     "metadata": {},
     "output_type": "execute_result"
    },
    {
     "data": {
      "image/png": "[encoded data removed]",
      "text/plain": [
       "<Figure size 432x288 with 1 Axes>"
      ]
     },
     "metadata": {
      "needs_background": "light"
     },
     "output_type": "display_data"
    }
   ],
   "source": [
    "import seaborn as sns\n",
    "%matplotlib inline \n",
    "\n",
    "sns.barplot(x='Vintage', y='Rating', data=df)"
   ]
  },
  {
   "cell_type": "code",
   "execution_count": 159,
   "metadata": {
    "scrolled": false
   },
   "outputs": [
    {
     "data": {
      "text/plain": [
       "seaborn.axisgrid.FacetGrid"
      ]
     },
     "execution_count": 159,
     "metadata": {},
     "output_type": "execute_result"
    },
    {
     "data": {
      "image/png": "[encoded data removed]",
      "text/plain": [
       "<Figure size 425.125x360 with 1 Axes>"
      ]
     },
     "metadata": {
      "needs_background": "light"
     },
     "output_type": "display_data"
    }
   ],
   "source": [
    "fig_lvl = sns.catplot(data=df, x='Rating', y='Region', hue='Type')\n",
    "type(fig_lvl)"
   ]
  },
  {
   "cell_type": "code",
   "execution_count": 164,
   "metadata": {},
   "outputs": [
    {
     "data": {
      "text/plain": [
       "seaborn.axisgrid.FacetGrid"
      ]
     },
     "execution_count": 164,
     "metadata": {},
     "output_type": "execute_result"
    },
    {
     "data": {
      "image/png": "[encoded data removed]",
      "text/plain": [
       "<Figure size 569.125x504 with 1 Axes>"
      ]
     },
     "metadata": {
      "needs_background": "light"
     },
     "output_type": "display_data"
    }
   ],
   "source": [
    "fig_blend = sns.catplot(data=df, x='Rating', y='Grape/Blend', hue='Type', height=7, aspect=1)\n",
    "type(fig_blend)"
   ]
  },
  {
   "cell_type": "markdown",
   "metadata": {},
   "source": [
    "### Creating the Model"
   ]
  },
  {
   "cell_type": "code",
   "execution_count": 88,
   "metadata": {},
   "outputs": [
    {
     "data": {
      "text/plain": [
       "RandomForestRegressor(random_state=0)"
      ]
     },
     "execution_count": 88,
     "metadata": {},
     "output_type": "execute_result"
    }
   ],
   "source": [
    "from sklearn.ensemble import RandomForestRegressor\n",
    "regressor = RandomForestRegressor(n_estimators = 100, random_state = 0)\n",
    "regressor.fit(X_train, y_train)"
   ]
  },
  {
   "cell_type": "code",
   "execution_count": 89,
   "metadata": {},
   "outputs": [],
   "source": [
    "y_pred = regressor.predict(X_test)"
   ]
  },
  {
   "cell_type": "markdown",
   "metadata": {},
   "source": [
    "## Best Predicted Wine"
   ]
  },
  {
   "cell_type": "markdown",
   "metadata": {},
   "source": [
    "Getting the best predicted value and finding the wine with that predicted rating."
   ]
  },
  {
   "cell_type": "code",
   "execution_count": 154,
   "metadata": {},
   "outputs": [
    {
     "data": {
      "text/plain": [
       "4.96"
      ]
     },
     "execution_count": 154,
     "metadata": {},
     "output_type": "execute_result"
    }
   ],
   "source": [
    "y_pred.max()"
   ]
  },
  {
   "cell_type": "code",
   "execution_count": 131,
   "metadata": {},
   "outputs": [
    {
     "data": {
      "text/html": [
       "<div>\n",
       "<style scoped>\n",
       "    .dataframe tbody tr th:only-of-type {\n",
       "        vertical-align: middle;\n",
       "    }\n",
       "\n",
       "    .dataframe tbody tr th {\n",
       "        vertical-align: top;\n",
       "    }\n",
       "\n",
       "    .dataframe thead th {\n",
       "        text-align: right;\n",
       "    }\n",
       "</style>\n",
       "<table border=\"1\" class=\"dataframe\">\n",
       "  <thead>\n",
       "    <tr style=\"text-align: right;\">\n",
       "      <th></th>\n",
       "      <th>pred_rating</th>\n",
       "    </tr>\n",
       "  </thead>\n",
       "  <tbody>\n",
       "    <tr>\n",
       "      <th>0</th>\n",
       "      <td>4.310000</td>\n",
       "    </tr>\n",
       "    <tr>\n",
       "      <th>1</th>\n",
       "      <td>4.220881</td>\n",
       "    </tr>\n",
       "    <tr>\n",
       "      <th>2</th>\n",
       "      <td>4.220000</td>\n",
       "    </tr>\n",
       "    <tr>\n",
       "      <th>3</th>\n",
       "      <td>3.970000</td>\n",
       "    </tr>\n",
       "    <tr>\n",
       "      <th>4</th>\n",
       "      <td>4.340000</td>\n",
       "    </tr>\n",
       "  </tbody>\n",
       "</table>\n",
       "</div>"
      ],
      "text/plain": [
       "   pred_rating\n",
       "0     4.310000\n",
       "1     4.220881\n",
       "2     4.220000\n",
       "3     3.970000\n",
       "4     4.340000"
      ]
     },
     "execution_count": 131,
     "metadata": {},
     "output_type": "execute_result"
    }
   ],
   "source": [
    "# creating a dataframe with the predicted ratings\n",
    "pred_dict = {'pred_rating':y_pred}\n",
    "pred_df = pd.DataFrame(pred_dict)\n",
    "pred_df.head()"
   ]
  },
  {
   "cell_type": "markdown",
   "metadata": {},
   "source": [
    "Creating a dataframe containing the rows with the original wine information in which the rating needed to be predicted."
   ]
  },
  {
   "cell_type": "code",
   "execution_count": 150,
   "metadata": {},
   "outputs": [],
   "source": [
    "info = df[df['Rating'].isna()]\n",
    "info = info.dropna(axis=1)\n",
    "info = info.reset_index(drop=True)"
   ]
  },
  {
   "cell_type": "code",
   "execution_count": 151,
   "metadata": {},
   "outputs": [
    {
     "data": {
      "text/html": [
       "<div>\n",
       "<style scoped>\n",
       "    .dataframe tbody tr th:only-of-type {\n",
       "        vertical-align: middle;\n",
       "    }\n",
       "\n",
       "    .dataframe tbody tr th {\n",
       "        vertical-align: top;\n",
       "    }\n",
       "\n",
       "    .dataframe thead th {\n",
       "        text-align: right;\n",
       "    }\n",
       "</style>\n",
       "<table border=\"1\" class=\"dataframe\">\n",
       "  <thead>\n",
       "    <tr style=\"text-align: right;\">\n",
       "      <th></th>\n",
       "      <th>Location Code</th>\n",
       "      <th>Location</th>\n",
       "      <th>Vintage</th>\n",
       "      <th>Region</th>\n",
       "      <th>Wine Name</th>\n",
       "      <th>Grape/Blend</th>\n",
       "      <th>Quantity</th>\n",
       "      <th>Unit Purchase Price</th>\n",
       "      <th>Type</th>\n",
       "      <th>pred_rating</th>\n",
       "    </tr>\n",
       "  </thead>\n",
       "  <tbody>\n",
       "    <tr>\n",
       "      <th>0</th>\n",
       "      <td>TL1</td>\n",
       "      <td>Bar</td>\n",
       "      <td>2017</td>\n",
       "      <td>France</td>\n",
       "      <td>Domaine Lafage Bastide Miraflors Côtes du Rous...</td>\n",
       "      <td>Syrah/Granache</td>\n",
       "      <td>1</td>\n",
       "      <td>$14.25</td>\n",
       "      <td>Red</td>\n",
       "      <td>4.310000</td>\n",
       "    </tr>\n",
       "    <tr>\n",
       "      <th>1</th>\n",
       "      <td>TL3</td>\n",
       "      <td>Bar</td>\n",
       "      <td>2016</td>\n",
       "      <td>Spain</td>\n",
       "      <td>Cyan Toro</td>\n",
       "      <td>Tempranillo</td>\n",
       "      <td>1</td>\n",
       "      <td>$16.50</td>\n",
       "      <td>Red</td>\n",
       "      <td>4.220881</td>\n",
       "    </tr>\n",
       "    <tr>\n",
       "      <th>2</th>\n",
       "      <td>BREGA</td>\n",
       "      <td>Crate</td>\n",
       "      <td>2017</td>\n",
       "      <td>California</td>\n",
       "      <td>Game of Thrones</td>\n",
       "      <td>Red blend</td>\n",
       "      <td>1</td>\n",
       "      <td>$23.00</td>\n",
       "      <td>Red</td>\n",
       "      <td>4.220000</td>\n",
       "    </tr>\n",
       "    <tr>\n",
       "      <th>3</th>\n",
       "      <td>CUNA1</td>\n",
       "      <td>Crate</td>\n",
       "      <td>2018</td>\n",
       "      <td>France</td>\n",
       "      <td>Chateau Tertre</td>\n",
       "      <td>Bordeaux</td>\n",
       "      <td>2</td>\n",
       "      <td>$9.17</td>\n",
       "      <td>Red</td>\n",
       "      <td>3.970000</td>\n",
       "    </tr>\n",
       "    <tr>\n",
       "      <th>4</th>\n",
       "      <td>CUNA1</td>\n",
       "      <td>Crate</td>\n",
       "      <td>2017</td>\n",
       "      <td>Argentina</td>\n",
       "      <td>Empezar</td>\n",
       "      <td>Malbec/Cabernet/Petit Verdot</td>\n",
       "      <td>2</td>\n",
       "      <td>$9.17</td>\n",
       "      <td>Red</td>\n",
       "      <td>4.340000</td>\n",
       "    </tr>\n",
       "  </tbody>\n",
       "</table>\n",
       "</div>"
      ],
      "text/plain": [
       "  Location Code Location  Vintage      Region  \\\n",
       "0           TL1      Bar     2017      France   \n",
       "1           TL3      Bar     2016       Spain   \n",
       "2         BREGA    Crate     2017  California   \n",
       "3         CUNA1    Crate     2018      France   \n",
       "4         CUNA1    Crate     2017   Argentina   \n",
       "\n",
       "                                           Wine Name  \\\n",
       "0  Domaine Lafage Bastide Miraflors Côtes du Rous...   \n",
       "1                                          Cyan Toro   \n",
       "2                                    Game of Thrones   \n",
       "3                                     Chateau Tertre   \n",
       "4                                            Empezar   \n",
       "\n",
       "                    Grape/Blend  Quantity Unit Purchase Price Type  \\\n",
       "0                Syrah/Granache         1             $14.25   Red   \n",
       "1                   Tempranillo         1             $16.50   Red   \n",
       "2                     Red blend         1             $23.00   Red   \n",
       "3                      Bordeaux         2              $9.17   Red   \n",
       "4  Malbec/Cabernet/Petit Verdot         2              $9.17   Red   \n",
       "\n",
       "   pred_rating  \n",
       "0     4.310000  \n",
       "1     4.220881  \n",
       "2     4.220000  \n",
       "3     3.970000  \n",
       "4     4.340000  "
      ]
     },
     "execution_count": 151,
     "metadata": {},
     "output_type": "execute_result"
    }
   ],
   "source": [
    "# merging the dataframes so each prediction has all its information\n",
    "pred_set = pd.concat([info, pred_df], axis=1)\n",
    "pred_set.head()"
   ]
  },
  {
   "cell_type": "code",
   "execution_count": 156,
   "metadata": {},
   "outputs": [
    {
     "data": {
      "text/html": [
       "<div>\n",
       "<style scoped>\n",
       "    .dataframe tbody tr th:only-of-type {\n",
       "        vertical-align: middle;\n",
       "    }\n",
       "\n",
       "    .dataframe tbody tr th {\n",
       "        vertical-align: top;\n",
       "    }\n",
       "\n",
       "    .dataframe thead th {\n",
       "        text-align: right;\n",
       "    }\n",
       "</style>\n",
       "<table border=\"1\" class=\"dataframe\">\n",
       "  <thead>\n",
       "    <tr style=\"text-align: right;\">\n",
       "      <th></th>\n",
       "      <th>Location Code</th>\n",
       "      <th>Location</th>\n",
       "      <th>Vintage</th>\n",
       "      <th>Region</th>\n",
       "      <th>Wine Name</th>\n",
       "      <th>Grape/Blend</th>\n",
       "      <th>Quantity</th>\n",
       "      <th>Unit Purchase Price</th>\n",
       "      <th>Type</th>\n",
       "      <th>pred_rating</th>\n",
       "    </tr>\n",
       "  </thead>\n",
       "  <tbody>\n",
       "    <tr>\n",
       "      <th>7</th>\n",
       "      <td>CUNA3</td>\n",
       "      <td>Crate</td>\n",
       "      <td>2017</td>\n",
       "      <td>Portugal</td>\n",
       "      <td>Charamba</td>\n",
       "      <td>Tinta Barroca/Tinta Roriz/Touriga</td>\n",
       "      <td>2</td>\n",
       "      <td>$10.00</td>\n",
       "      <td>Red</td>\n",
       "      <td>4.96</td>\n",
       "    </tr>\n",
       "  </tbody>\n",
       "</table>\n",
       "</div>"
      ],
      "text/plain": [
       "  Location Code Location  Vintage    Region Wine Name  \\\n",
       "7         CUNA3    Crate     2017  Portugal  Charamba   \n",
       "\n",
       "                         Grape/Blend  Quantity Unit Purchase Price Type  \\\n",
       "7  Tinta Barroca/Tinta Roriz/Touriga         2             $10.00   Red   \n",
       "\n",
       "   pred_rating  \n",
       "7         4.96  "
      ]
     },
     "execution_count": 156,
     "metadata": {},
     "output_type": "execute_result"
    }
   ],
   "source": [
    "best_wine = pred_set[pred_set['pred_rating']==4.96]\n",
    "best_wine"
   ]
  },
  {
   "cell_type": "markdown",
   "metadata": {},
   "source": [
    "### 2017 Charamba"
   ]
  },
  {
   "cell_type": "markdown",
   "metadata": {},
   "source": [
    "A possible explantion for this result is because every Portugese wine tasted was given a very high rating and due to the small sample of Portugese wines tasted, the model predicted the only Portugese wine in the test set the highest. A larger sample size with a larger variation in the ratings would very likely change which wine was given the highest predicted rating."
   ]
  },
  {
   "cell_type": "code",
   "execution_count": 157,
   "metadata": {},
   "outputs": [
    {
     "data": {
      "text/plain": [
       "France          10\n",
       "Italy            9\n",
       "Spain            5\n",
       "Argentina        3\n",
       "South Africa     2\n",
       "New Zealand      2\n",
       "California       2\n",
       "Chile            1\n",
       "Portugal         1\n",
       "Austria          1\n",
       "Germany          1\n",
       "Name: Region, dtype: int64"
      ]
     },
     "execution_count": 157,
     "metadata": {},
     "output_type": "execute_result"
    }
   ],
   "source": [
    "pred_set['Region'].value_counts()"
   ]
  },
  {
   "cell_type": "code",
   "execution_count": null,
   "metadata": {},
   "outputs": [],
   "source": []
  }
 ],
 "metadata": {
  "kernelspec": {
   "display_name": "Python 3",
   "language": "python",
   "name": "python3"
  },
  "language_info": {
   "codemirror_mode": {
    "name": "ipython",
    "version": 3
   },
   "file_extension": ".py",
   "mimetype": "text/x-python",
   "name": "python",
   "nbconvert_exporter": "python",
   "pygments_lexer": "ipython3",
   "version": "3.8.8"
  }
 },
 "nbformat": 4,
 "nbformat_minor": 4
}
