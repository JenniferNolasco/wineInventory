{
 "cells": [
  {
   "cell_type": "markdown",
   "metadata": {},
   "source": [
    "# Wine Inventory"
   ]
  },
  {
   "cell_type": "markdown",
   "metadata": {},
   "source": [
    "There are a collection of wines that have been cataloged by what we have in the house \"onShelf.csv\" and by what we previously had but no longer have \"noInventory.csv\"."
   ]
  },
  {
   "cell_type": "code",
   "execution_count": 86,
   "metadata": {},
   "outputs": [],
   "source": [
    "import pandas as pd\n",
    "import numpy as np\n",
    "import matplotlib.pyplot as plt"
   ]
  },
  {
   "cell_type": "code",
   "execution_count": 80,
   "metadata": {},
   "outputs": [],
   "source": [
    "# creating a single dataset of all the wines\n",
    "\n",
    "headers = ['Location Code', 'Location', 'Vintage', 'Region', 'Wine Name', 'Grape/Blend', 'Quantity', \n",
    "           'Rating', 'Unit Purchase Price', 'Type', 'Purchase Date']\n",
    "\n",
    "in_stock = pd.read_csv('onShelf.csv', names=headers, header=0, index_col=False)\n",
    "no_stock = pd.read_csv('noInventory.csv', names=headers, header=0, index_col=False)\n",
    "\n",
    "no_stock['Quantity'] = no_stock['Quantity'].replace([1], 0)\n",
    "\n",
    "df = pd.concat([in_stock, no_stock])"
   ]
  },
  {
   "cell_type": "code",
   "execution_count": 110,
   "metadata": {
    "scrolled": true
   },
   "outputs": [
    {
     "data": {
      "text/html": [
       "<div>\n",
       "<style scoped>\n",
       "    .dataframe tbody tr th:only-of-type {\n",
       "        vertical-align: middle;\n",
       "    }\n",
       "\n",
       "    .dataframe tbody tr th {\n",
       "        vertical-align: top;\n",
       "    }\n",
       "\n",
       "    .dataframe thead th {\n",
       "        text-align: right;\n",
       "    }\n",
       "</style>\n",
       "<table border=\"1\" class=\"dataframe\">\n",
       "  <thead>\n",
       "    <tr style=\"text-align: right;\">\n",
       "      <th></th>\n",
       "      <th>Location Code</th>\n",
       "      <th>Location</th>\n",
       "      <th>Vintage</th>\n",
       "      <th>Region</th>\n",
       "      <th>Wine Name</th>\n",
       "      <th>Grape/Blend</th>\n",
       "      <th>Quantity</th>\n",
       "      <th>Rating</th>\n",
       "      <th>Unit Purchase Price</th>\n",
       "      <th>Type</th>\n",
       "      <th>Purchase Date</th>\n",
       "    </tr>\n",
       "  </thead>\n",
       "  <tbody>\n",
       "    <tr>\n",
       "      <th>0</th>\n",
       "      <td>TL1</td>\n",
       "      <td>Bar</td>\n",
       "      <td>2017.0</td>\n",
       "      <td>France</td>\n",
       "      <td>Domaine Lafage Bastide Miraflors Côtes du Rous...</td>\n",
       "      <td>Syrah/Granache</td>\n",
       "      <td>1.0</td>\n",
       "      <td>NaN</td>\n",
       "      <td>$14.25</td>\n",
       "      <td>Red</td>\n",
       "      <td>11/7/2020</td>\n",
       "    </tr>\n",
       "    <tr>\n",
       "      <th>1</th>\n",
       "      <td>TL2</td>\n",
       "      <td>Bar</td>\n",
       "      <td>2017.0</td>\n",
       "      <td>Italy</td>\n",
       "      <td>Scaia Paradiso</td>\n",
       "      <td>Corvina/Rondinella/Cabernet</td>\n",
       "      <td>1.0</td>\n",
       "      <td>4.0</td>\n",
       "      <td>$19.00</td>\n",
       "      <td>Red</td>\n",
       "      <td>5/30/2020</td>\n",
       "    </tr>\n",
       "    <tr>\n",
       "      <th>2</th>\n",
       "      <td>TL3</td>\n",
       "      <td>Bar</td>\n",
       "      <td>2016.0</td>\n",
       "      <td>Spain</td>\n",
       "      <td>Nubori Crianza Rioja</td>\n",
       "      <td>Tempranillo</td>\n",
       "      <td>1.0</td>\n",
       "      <td>4.0</td>\n",
       "      <td>$16.00</td>\n",
       "      <td>Red</td>\n",
       "      <td>11/23/2019</td>\n",
       "    </tr>\n",
       "    <tr>\n",
       "      <th>3</th>\n",
       "      <td>TL3</td>\n",
       "      <td>Bar</td>\n",
       "      <td>2016.0</td>\n",
       "      <td>Spain</td>\n",
       "      <td>Cyan Toro</td>\n",
       "      <td>Tempranillo</td>\n",
       "      <td>1.0</td>\n",
       "      <td>NaN</td>\n",
       "      <td>$16.50</td>\n",
       "      <td>Red</td>\n",
       "      <td>11/7/2020</td>\n",
       "    </tr>\n",
       "    <tr>\n",
       "      <th>4</th>\n",
       "      <td>TL4</td>\n",
       "      <td>Bar</td>\n",
       "      <td>2016.0</td>\n",
       "      <td>California</td>\n",
       "      <td>Sterling</td>\n",
       "      <td>Merlot</td>\n",
       "      <td>1.0</td>\n",
       "      <td>4.0</td>\n",
       "      <td>$-</td>\n",
       "      <td>Red</td>\n",
       "      <td>NaN</td>\n",
       "    </tr>\n",
       "  </tbody>\n",
       "</table>\n",
       "</div>"
      ],
      "text/plain": [
       "  Location Code Location  Vintage      Region  \\\n",
       "0           TL1      Bar   2017.0      France   \n",
       "1           TL2      Bar   2017.0       Italy   \n",
       "2           TL3      Bar   2016.0       Spain   \n",
       "3           TL3      Bar   2016.0       Spain   \n",
       "4           TL4      Bar   2016.0  California   \n",
       "\n",
       "                                           Wine Name  \\\n",
       "0  Domaine Lafage Bastide Miraflors Côtes du Rous...   \n",
       "1                                     Scaia Paradiso   \n",
       "2                               Nubori Crianza Rioja   \n",
       "3                                          Cyan Toro   \n",
       "4                                           Sterling   \n",
       "\n",
       "                   Grape/Blend  Quantity  Rating Unit Purchase Price Type  \\\n",
       "0               Syrah/Granache       1.0     NaN             $14.25   Red   \n",
       "1  Corvina/Rondinella/Cabernet       1.0     4.0             $19.00   Red   \n",
       "2                  Tempranillo       1.0     4.0             $16.00   Red   \n",
       "3                  Tempranillo       1.0     NaN             $16.50   Red   \n",
       "4                       Merlot       1.0     4.0               $-     Red   \n",
       "\n",
       "  Purchase Date  \n",
       "0     11/7/2020  \n",
       "1     5/30/2020  \n",
       "2    11/23/2019  \n",
       "3     11/7/2020  \n",
       "4           NaN  "
      ]
     },
     "execution_count": 110,
     "metadata": {},
     "output_type": "execute_result"
    }
   ],
   "source": [
    "df.head()"
   ]
  },
  {
   "cell_type": "code",
   "execution_count": 91,
   "metadata": {},
   "outputs": [
    {
     "data": {
      "text/html": [
       "<div>\n",
       "<style scoped>\n",
       "    .dataframe tbody tr th:only-of-type {\n",
       "        vertical-align: middle;\n",
       "    }\n",
       "\n",
       "    .dataframe tbody tr th {\n",
       "        vertical-align: top;\n",
       "    }\n",
       "\n",
       "    .dataframe thead th {\n",
       "        text-align: right;\n",
       "    }\n",
       "</style>\n",
       "<table border=\"1\" class=\"dataframe\">\n",
       "  <thead>\n",
       "    <tr style=\"text-align: right;\">\n",
       "      <th></th>\n",
       "      <th>Vintage</th>\n",
       "      <th>Quantity</th>\n",
       "      <th>Rating</th>\n",
       "    </tr>\n",
       "  </thead>\n",
       "  <tbody>\n",
       "    <tr>\n",
       "      <th>count</th>\n",
       "      <td>176.000000</td>\n",
       "      <td>181.000000</td>\n",
       "      <td>134.000000</td>\n",
       "    </tr>\n",
       "    <tr>\n",
       "      <th>mean</th>\n",
       "      <td>2015.948864</td>\n",
       "      <td>0.883978</td>\n",
       "      <td>4.220149</td>\n",
       "    </tr>\n",
       "    <tr>\n",
       "      <th>std</th>\n",
       "      <td>2.133461</td>\n",
       "      <td>1.039668</td>\n",
       "      <td>0.754712</td>\n",
       "    </tr>\n",
       "    <tr>\n",
       "      <th>min</th>\n",
       "      <td>2004.000000</td>\n",
       "      <td>0.000000</td>\n",
       "      <td>0.000000</td>\n",
       "    </tr>\n",
       "    <tr>\n",
       "      <th>25%</th>\n",
       "      <td>2015.000000</td>\n",
       "      <td>0.000000</td>\n",
       "      <td>4.000000</td>\n",
       "    </tr>\n",
       "    <tr>\n",
       "      <th>50%</th>\n",
       "      <td>2016.000000</td>\n",
       "      <td>1.000000</td>\n",
       "      <td>4.000000</td>\n",
       "    </tr>\n",
       "    <tr>\n",
       "      <th>75%</th>\n",
       "      <td>2017.000000</td>\n",
       "      <td>2.000000</td>\n",
       "      <td>5.000000</td>\n",
       "    </tr>\n",
       "    <tr>\n",
       "      <th>max</th>\n",
       "      <td>2019.000000</td>\n",
       "      <td>3.000000</td>\n",
       "      <td>5.000000</td>\n",
       "    </tr>\n",
       "  </tbody>\n",
       "</table>\n",
       "</div>"
      ],
      "text/plain": [
       "           Vintage    Quantity      Rating\n",
       "count   176.000000  181.000000  134.000000\n",
       "mean   2015.948864    0.883978    4.220149\n",
       "std       2.133461    1.039668    0.754712\n",
       "min    2004.000000    0.000000    0.000000\n",
       "25%    2015.000000    0.000000    4.000000\n",
       "50%    2016.000000    1.000000    4.000000\n",
       "75%    2017.000000    2.000000    5.000000\n",
       "max    2019.000000    3.000000    5.000000"
      ]
     },
     "execution_count": 91,
     "metadata": {},
     "output_type": "execute_result"
    }
   ],
   "source": [
    "df.describe()"
   ]
  },
  {
   "cell_type": "code",
   "execution_count": 118,
   "metadata": {},
   "outputs": [],
   "source": [
    "df.drop(df[df['Wine Name'].isna() == True].index, inplace=True)"
   ]
  },
  {
   "cell_type": "code",
   "execution_count": 119,
   "metadata": {},
   "outputs": [
    {
     "data": {
      "text/plain": [
       "Location Code           5\n",
       "Location                5\n",
       "Vintage                 5\n",
       "Region                  0\n",
       "Wine Name               0\n",
       "Grape/Blend             0\n",
       "Quantity                0\n",
       "Rating                 47\n",
       "Unit Purchase Price     8\n",
       "Type                    1\n",
       "Purchase Date          75\n",
       "dtype: int64"
      ]
     },
     "execution_count": 119,
     "metadata": {},
     "output_type": "execute_result"
    }
   ],
   "source": [
    "df.isna().sum()"
   ]
  },
  {
   "cell_type": "code",
   "execution_count": 121,
   "metadata": {},
   "outputs": [],
   "source": [
    "df['Rating'] = df['Rating'].fillna(0)"
   ]
  },
  {
   "cell_type": "code",
   "execution_count": 122,
   "metadata": {},
   "outputs": [
    {
     "data": {
      "text/plain": [
       "Location Code           5\n",
       "Location                5\n",
       "Vintage                 5\n",
       "Region                  0\n",
       "Wine Name               0\n",
       "Grape/Blend             0\n",
       "Quantity                0\n",
       "Rating                  0\n",
       "Unit Purchase Price     8\n",
       "Type                    1\n",
       "Purchase Date          75\n",
       "dtype: int64"
      ]
     },
     "execution_count": 122,
     "metadata": {},
     "output_type": "execute_result"
    }
   ],
   "source": [
    "df.isna().sum()"
   ]
  },
  {
   "cell_type": "code",
   "execution_count": null,
   "metadata": {},
   "outputs": [],
   "source": [
    "df = df.astype({'Quantity':'int', \"Rating\":'int'}) "
   ]
  }
 ],
 "metadata": {
  "kernelspec": {
   "display_name": "Python 3",
   "language": "python",
   "name": "python3"
  },
  "language_info": {
   "codemirror_mode": {
    "name": "ipython",
    "version": 3
   },
   "file_extension": ".py",
   "mimetype": "text/x-python",
   "name": "python",
   "nbconvert_exporter": "python",
   "pygments_lexer": "ipython3",
   "version": "3.8.3"
  }
 },
 "nbformat": 4,
 "nbformat_minor": 4
}
